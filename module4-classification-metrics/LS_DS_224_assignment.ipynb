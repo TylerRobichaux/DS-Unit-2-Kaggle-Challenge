{
 "cells": [
  {
   "cell_type": "markdown",
   "metadata": {
    "colab_type": "text",
    "id": "view-in-github"
   },
   "source": [
    "<a href=\"https://colab.research.google.com/github/TylerRobichaux/DS-Unit-2-Kaggle-Challenge/blob/master/module4-classification-metrics/LS_DS_224_assignment.ipynb\" target=\"_parent\"><img src=\"https://colab.research.google.com/assets/colab-badge.svg\" alt=\"Open In Colab\"/></a>"
   ]
  },
  {
   "cell_type": "markdown",
   "metadata": {
    "colab_type": "text",
    "id": "hq9tKYJYrHbb"
   },
   "source": [
    "Lambda School Data Science\n",
    "\n",
    "*Unit 2, Sprint 2, Module 4*\n",
    "\n",
    "---"
   ]
  },
  {
   "cell_type": "markdown",
   "metadata": {
    "colab_type": "text",
    "id": "nCc3XZEyG3XV"
   },
   "source": [
    "# Classification Metrics\n",
    "\n",
    "## Assignment\n",
    "- [ ] If you haven't yet, [review requirements for your portfolio project](https://lambdaschool.github.io/ds/unit2), then submit your dataset.\n",
    "- [ ] Plot a confusion matrix for your Tanzania Waterpumps model.\n",
    "- [ ] Continue to participate in our Kaggle challenge. Every student should have made at least one submission that scores at least 70% accuracy (well above the majority class baseline).\n",
    "- [ ] Submit your final predictions to our Kaggle competition. Optionally, go to **My Submissions**, and _\"you may select up to 1 submission to be used to count towards your final leaderboard score.\"_\n",
    "- [ ] Commit your notebook to your fork of the GitHub repo.\n",
    "- [ ] Read [Maximizing Scarce Maintenance Resources with Data: Applying predictive modeling, precision at k, and clustering to optimize impact](http://archive.is/DelgE), by Lambda DS3 student Michael Brady. His blog post extends the Tanzania Waterpumps scenario, far beyond what's in the lecture notebook.\n",
    "\n",
    "\n",
    "## Stretch Goals\n",
    "\n",
    "### Reading\n",
    "\n",
    "- [Attacking discrimination with smarter machine learning](https://research.google.com/bigpicture/attacking-discrimination-in-ml/), by Google Research, with  interactive visualizations. _\"A threshold classifier essentially makes a yes/no decision, putting things in one category or another. We look at how these classifiers work, ways they can potentially be unfair, and how you might turn an unfair classifier into a fairer one. As an illustrative example, we focus on loan granting scenarios where a bank may grant or deny a loan based on a single, automatically computed number such as a credit score.\"_\n",
    "- [Notebook about how to calculate expected value from a confusion matrix by treating it as a cost-benefit matrix](https://github.com/podopie/DAT18NYC/blob/master/classes/13-expected_value_cost_benefit_analysis.ipynb)\n",
    "- [Visualizing Machine Learning Thresholds to Make Better Business Decisions](https://blog.insightdatascience.com/visualizing-machine-learning-thresholds-to-make-better-business-decisions-4ab07f823415)\n",
    "\n",
    "\n",
    "### Doing\n",
    "- [ ] Share visualizations in our Slack channel!\n",
    "- [ ] RandomizedSearchCV / GridSearchCV, for model selection. (See module 3 assignment notebook)\n",
    "- [ ] Stacking Ensemble. (See module 3 assignment notebook)\n",
    "- [ ] More Categorical Encoding. (See module 2 assignment notebook)"
   ]
  },
  {
   "cell_type": "code",
   "execution_count": 9,
   "metadata": {
    "colab": {},
    "colab_type": "code",
    "id": "BVA1lph8CcNX"
   },
   "outputs": [],
   "source": [
    "%%capture\n",
    "import sys\n",
    "\n",
    "# If you're on Colab:\n",
    "if 'google.colab' in sys.modules:\n",
    "    DATA_PATH = 'https://raw.githubusercontent.com/LambdaSchool/DS-Unit-2-Kaggle-Challenge/master/data/'\n",
    "    !pip install category_encoders==2.*\n",
    "\n",
    "# If you're working locally:\n",
    "else:\n",
    "    DATA_PATH = '../data/'"
   ]
  },
  {
   "cell_type": "code",
   "execution_count": 10,
   "metadata": {
    "colab": {},
    "colab_type": "code",
    "id": "lsbRiKBoB5RE",
    "scrolled": true
   },
   "outputs": [],
   "source": [
    "import pandas as pd\n",
    "\n",
    "# Merge train_features.csv & train_labels.csv\n",
    "train = pd.merge(pd.read_csv(DATA_PATH+'waterpumps/train_features.csv'), \n",
    "                 pd.read_csv(DATA_PATH+'waterpumps/train_labels.csv'))\n",
    "\n",
    "# Read test_features.csv & sample_submission.csv\n",
    "test = pd.read_csv(DATA_PATH+'waterpumps/test_features.csv')\n",
    "sample_submission = pd.read_csv(DATA_PATH+'waterpumps/sample_submission.csv')"
   ]
  },
  {
   "cell_type": "code",
   "execution_count": 11,
   "metadata": {
    "colab": {
     "base_uri": "https://localhost:8080/",
     "height": 34
    },
    "colab_type": "code",
    "id": "F3cLcZHOrHbk",
    "outputId": "d2a76af7-127c-4f15-d0af-ac51fc9022aa"
   },
   "outputs": [
    {
     "data": {
      "text/plain": [
       "((45042, 41), (14358, 41), (14358, 40))"
      ]
     },
     "execution_count": 11,
     "metadata": {},
     "output_type": "execute_result"
    }
   ],
   "source": [
    "from sklearn.model_selection import train_test_split\n",
    "train, val = train_test_split(train, test_size=14358)\n",
    "train.shape, val.shape, test.shape"
   ]
  },
  {
   "cell_type": "code",
   "execution_count": 12,
   "metadata": {
    "colab": {},
    "colab_type": "code",
    "id": "ROxasfM-rui-"
   },
   "outputs": [],
   "source": [
    "import numpy as np\n",
    "\n",
    "train = train.replace(0, np.nan)\n",
    "test = test.replace(0, np.nan)"
   ]
  },
  {
   "cell_type": "code",
   "execution_count": 13,
   "metadata": {
    "colab": {},
    "colab_type": "code",
    "id": "uLm7EgHErulQ"
   },
   "outputs": [],
   "source": [
    "X_train = train.drop('status_group', axis=1)\n",
    "y_train = train['status_group']\n",
    "X_val = val.drop('status_group', axis=1)\n",
    "y_val = val['status_group']\n",
    "X_test = test"
   ]
  },
  {
   "cell_type": "code",
   "execution_count": 14,
   "metadata": {
    "colab": {},
    "colab_type": "code",
    "id": "tJ1JEEDArusF"
   },
   "outputs": [],
   "source": [
    "X_test = X_test.drop(['quantity_group', 'payment_type'], axis = 1)\n",
    "X_train = X_train.drop(['quantity_group', 'payment_type'], axis = 1)\n",
    "X_val = X_val.drop(['quantity_group', 'payment_type'], axis = 1)"
   ]
  },
  {
   "cell_type": "code",
   "execution_count": 15,
   "metadata": {
    "colab": {},
    "colab_type": "code",
    "id": "WOgaGoAiruuU"
   },
   "outputs": [],
   "source": [
    "X_test = X_test.drop(['recorded_by', 'id'], axis = 1)\n",
    "X_train = X_train.drop(['recorded_by', 'id'], axis = 1)\n",
    "X_val = X_val.drop(['recorded_by', 'id'], axis = 1)"
   ]
  },
  {
   "cell_type": "code",
   "execution_count": 16,
   "metadata": {
    "colab": {
     "base_uri": "https://localhost:8080/",
     "height": 87
    },
    "colab_type": "code",
    "id": "pHsnfZ_gr8vz",
    "outputId": "86615be1-f376-4652-a223-e3b1636b0615"
   },
   "outputs": [
    {
     "data": {
      "text/plain": [
       "array(['functional', 'non functional', 'non functional', ...,\n",
       "       'functional', 'functional', 'non functional'], dtype=object)"
      ]
     },
     "execution_count": 16,
     "metadata": {},
     "output_type": "execute_result"
    }
   ],
   "source": [
    "import category_encoders as ce\n",
    "from sklearn.ensemble import RandomForestClassifier\n",
    "from sklearn.impute import SimpleImputer\n",
    "from sklearn.pipeline import make_pipeline\n",
    "from sklearn.impute import SimpleImputer\n",
    "from sklearn.model_selection import cross_val_score\n",
    "from sklearn.preprocessing import StandardScaler\n",
    "from sklearn.model_selection import GridSearchCV, RandomizedSearchCV\n",
    "from scipy.stats import randint, uniform\n",
    "\n",
    "\n",
    "\n",
    "\n",
    "pipeline = make_pipeline(\n",
    "    ce.OrdinalEncoder(), \n",
    "    SimpleImputer(strategy='median'), \n",
    "    RandomForestClassifier(max_depth=250, min_samples_split= 89, n_jobs=-1)\n",
    ")\n",
    "\n",
    "# Fit on train, score on val\n",
    "pipeline.fit(X_train, y_train)\n",
    "y_pred = pipeline.predict(X_val)\n",
    "y_pred\n",
    "\n",
    "\n",
    "#Everything above is copy pasted from previous assignment."
   ]
  },
  {
   "cell_type": "code",
   "execution_count": 17,
   "metadata": {
    "colab": {
     "base_uri": "https://localhost:8080/",
     "height": 384
    },
    "colab_type": "code",
    "id": "fmIgRkbWr8yW",
    "outputId": "60814536-55e4-4c19-be00-2684b185c79f"
   },
   "outputs": [
    {
     "data": {
      "image/png": "[encoded data removed]",
      "text/plain": [
       "<Figure size 432x288 with 2 Axes>"
      ]
     },
     "metadata": {
      "needs_background": "light"
     },
     "output_type": "display_data"
    }
   ],
   "source": [
    "from sklearn.metrics import plot_confusion_matrix\n",
    "plot_confusion_matrix(pipeline, X_val, y_val, values_format='.0f', xticks_rotation='vertical');\n",
    "#well that was easy"
   ]
  },
  {
   "cell_type": "code",
   "execution_count": 18,
   "metadata": {
    "colab": {
     "base_uri": "https://localhost:8080/",
     "height": 660
    },
    "colab_type": "code",
    "id": "5PZda464r805",
    "outputId": "d3c07b2c-c9cb-46bc-bb79-19564efdc2d0"
   },
   "outputs": [],
   "source": [
    "#I am jsut going to try and do a better job finding hyper parameters.\n",
    "\n"
   ]
  },
  {
   "cell_type": "code",
   "execution_count": 19,
   "metadata": {
    "colab": {
     "base_uri": "https://localhost:8080/",
     "height": 176
    },
    "colab_type": "code",
    "id": "YGDBVwdjr83M",
    "outputId": "441b3972-f043-4083-cc1e-8f4a9b28b74a"
   },
   "outputs": [
    {
     "name": "stdout",
     "output_type": "stream",
     "text": [
      "Fitting 20 folds for each of 75 candidates, totalling 1500 fits\n"
     ]
    },
    {
     "name": "stderr",
     "output_type": "stream",
     "text": [
      "[Parallel(n_jobs=-1)]: Using backend LokyBackend with 4 concurrent workers.\n",
      "[Parallel(n_jobs=-1)]: Done   5 tasks      | elapsed:    5.9s\n",
      "[Parallel(n_jobs=-1)]: Done  10 tasks      | elapsed:    8.2s\n",
      "[Parallel(n_jobs=-1)]: Done  17 tasks      | elapsed:   12.2s\n",
      "[Parallel(n_jobs=-1)]: Done  24 tasks      | elapsed:   42.8s\n",
      "[Parallel(n_jobs=-1)]: Done  33 tasks      | elapsed:  2.3min\n",
      "[Parallel(n_jobs=-1)]: Done  42 tasks      | elapsed:  3.3min\n",
      "[Parallel(n_jobs=-1)]: Done  53 tasks      | elapsed:  4.2min\n",
      "[Parallel(n_jobs=-1)]: Done  64 tasks      | elapsed:  5.7min\n",
      "[Parallel(n_jobs=-1)]: Done  77 tasks      | elapsed: 10.2min\n",
      "[Parallel(n_jobs=-1)]: Done  90 tasks      | elapsed: 10.4min\n",
      "[Parallel(n_jobs=-1)]: Done 105 tasks      | elapsed: 10.6min\n",
      "[Parallel(n_jobs=-1)]: Done 120 tasks      | elapsed: 10.7min\n",
      "[Parallel(n_jobs=-1)]: Done 137 tasks      | elapsed: 18.0min\n",
      "[Parallel(n_jobs=-1)]: Done 154 tasks      | elapsed: 19.6min\n",
      "[Parallel(n_jobs=-1)]: Done 173 tasks      | elapsed: 20.4min\n",
      "[Parallel(n_jobs=-1)]: Done 192 tasks      | elapsed: 20.9min\n",
      "[Parallel(n_jobs=-1)]: Done 213 tasks      | elapsed: 27.3min\n",
      "[Parallel(n_jobs=-1)]: Done 234 tasks      | elapsed: 32.1min\n",
      "[Parallel(n_jobs=-1)]: Done 257 tasks      | elapsed: 40.8min\n",
      "[Parallel(n_jobs=-1)]: Done 280 tasks      | elapsed: 46.0min\n",
      "[Parallel(n_jobs=-1)]: Done 305 tasks      | elapsed: 54.6min\n",
      "[Parallel(n_jobs=-1)]: Done 330 tasks      | elapsed: 56.2min\n",
      "[Parallel(n_jobs=-1)]: Done 357 tasks      | elapsed: 59.7min\n",
      "[Parallel(n_jobs=-1)]: Done 384 tasks      | elapsed: 61.2min\n",
      "[Parallel(n_jobs=-1)]: Done 413 tasks      | elapsed: 63.3min\n",
      "[Parallel(n_jobs=-1)]: Done 442 tasks      | elapsed: 74.6min\n",
      "[Parallel(n_jobs=-1)]: Done 473 tasks      | elapsed: 88.5min\n",
      "[Parallel(n_jobs=-1)]: Done 504 tasks      | elapsed: 94.7min\n",
      "[Parallel(n_jobs=-1)]: Done 537 tasks      | elapsed: 95.3min\n",
      "[Parallel(n_jobs=-1)]: Done 570 tasks      | elapsed: 102.1min\n",
      "[Parallel(n_jobs=-1)]: Done 605 tasks      | elapsed: 108.5min\n",
      "[Parallel(n_jobs=-1)]: Done 640 tasks      | elapsed: 111.2min\n",
      "[Parallel(n_jobs=-1)]: Done 677 tasks      | elapsed: 113.0min\n",
      "[Parallel(n_jobs=-1)]: Done 714 tasks      | elapsed: 121.1min\n",
      "[Parallel(n_jobs=-1)]: Done 753 tasks      | elapsed: 128.7min\n",
      "[Parallel(n_jobs=-1)]: Done 792 tasks      | elapsed: 134.2min\n",
      "[Parallel(n_jobs=-1)]: Done 833 tasks      | elapsed: 145.4min\n",
      "[Parallel(n_jobs=-1)]: Done 874 tasks      | elapsed: 153.5min\n",
      "[Parallel(n_jobs=-1)]: Done 917 tasks      | elapsed: 167.1min\n",
      "[Parallel(n_jobs=-1)]: Done 960 tasks      | elapsed: 172.4min\n",
      "[Parallel(n_jobs=-1)]: Done 1005 tasks      | elapsed: 189.0min\n",
      "[Parallel(n_jobs=-1)]: Done 1050 tasks      | elapsed: 207.8min\n",
      "[Parallel(n_jobs=-1)]: Done 1097 tasks      | elapsed: 217.0min\n",
      "[Parallel(n_jobs=-1)]: Done 1144 tasks      | elapsed: 226.4min\n",
      "[Parallel(n_jobs=-1)]: Done 1193 tasks      | elapsed: 245.5min\n",
      "[Parallel(n_jobs=-1)]: Done 1242 tasks      | elapsed: 260.4min\n",
      "[Parallel(n_jobs=-1)]: Done 1293 tasks      | elapsed: 274.0min\n",
      "[Parallel(n_jobs=-1)]: Done 1344 tasks      | elapsed: 283.4min\n",
      "[Parallel(n_jobs=-1)]: Done 1397 tasks      | elapsed: 296.9min\n",
      "[Parallel(n_jobs=-1)]: Done 1450 tasks      | elapsed: 308.0min\n",
      "[Parallel(n_jobs=-1)]: Done 1500 out of 1500 | elapsed: 315.8min finished\n"
     ]
    }
   ],
   "source": [
    "pipeline = make_pipeline(\n",
    "    ce.OrdinalEncoder(), \n",
    "    SimpleImputer(), \n",
    "    RandomForestClassifier()\n",
    ")\n",
    "\n",
    "\n",
    "param_distributions = {\n",
    "    'randomforestclassifier__n_estimators': [50, 100, 150, 200, 350, 400, None],\n",
    "    'randomforestclassifier__max_depth': [50, 100, 150, 200, 250, 300, None], \n",
    "    'randomforestclassifier__min_samples_split': randint(1, 1000),\n",
    "    'randomforestclassifier__criterion': ['gini', 'entropy'],\n",
    "    'simpleimputer__strategy': ['mean', 'median']\n",
    "}\n",
    "#Man ordinal encoding only has 2 parameters. nothing really to try diffrently\n",
    "\n",
    "search = RandomizedSearchCV(\n",
    "    pipeline, \n",
    "    param_distributions=param_distributions,  \n",
    "    n_iter = 75,\n",
    "    cv=20, \n",
    "    scoring='accuracy', \n",
    "    verbose=10, \n",
    "    return_train_score=True, \n",
    "    n_jobs=-1\n",
    ")\n",
    "\n",
    "search.fit(X_train, y_train);"
   ]
  },
  {
   "cell_type": "code",
   "execution_count": 20,
   "metadata": {
    "colab_type": "text",
    "id": "G7seWYfx9nyC"
   },
   "outputs": [
    {
     "name": "stdout",
     "output_type": "stream",
     "text": [
      "hello\n"
     ]
    }
   ],
   "source": [
    "print('hello')"
   ]
  },
  {
   "cell_type": "code",
   "execution_count": 21,
   "metadata": {
    "colab": {},
    "colab_type": "code",
    "id": "bg8SzJy_r85o"
   },
   "outputs": [
    {
     "name": "stdout",
     "output_type": "stream",
     "text": [
      "Best hyperparameters {'randomforestclassifier__criterion': 'gini', 'randomforestclassifier__max_depth': 100, 'randomforestclassifier__min_samples_split': 44, 'randomforestclassifier__n_estimators': 100, 'simpleimputer__strategy': 'mean'}\n",
      "Cross-validation MAE -0.7974776083043804\n"
     ]
    }
   ],
   "source": [
    "print('Best hyperparameters', search.best_params_)\n",
    "print('Cross-validation MAE', -search.best_score_)"
   ]
  },
  {
   "cell_type": "code",
   "execution_count": null,
   "metadata": {},
   "outputs": [],
   "source": []
  }
 ],
 "metadata": {
  "colab": {
   "include_colab_link": true,
   "name": "Copy of LS_DS_224_assignment.ipynb",
   "provenance": []
  },
  "kernelspec": {
   "display_name": "Python 3",
   "language": "python",
   "name": "python3"
  },
  "language_info": {
   "codemirror_mode": {
    "name": "ipython",
    "version": 3
   },
   "file_extension": ".py",
   "mimetype": "text/x-python",
   "name": "python",
   "nbconvert_exporter": "python",
   "pygments_lexer": "ipython3",
   "version": "3.7.6"
  }
 },
 "nbformat": 4,
 "nbformat_minor": 1
}
